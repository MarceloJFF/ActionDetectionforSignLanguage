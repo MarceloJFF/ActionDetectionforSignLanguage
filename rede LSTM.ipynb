{
 "cells": [
  {
   "cell_type": "code",
   "execution_count": 1,
   "id": "a9cf2367",
   "metadata": {},
   "outputs": [],
   "source": [
    "import numpy as np\n",
    "import cv2\n",
    "import os\n",
    "from matplotlib import pyplot as plt\n",
    "import time\n",
    "import mediapipe as mp\n",
    "from sklearn.model_selection import train_test_split\n",
    "\n",
    "from tensorflow.python.keras.utils.np_utils import to_categorical"
   ]
  },
  {
   "cell_type": "code",
   "execution_count": 2,
   "id": "39589508",
   "metadata": {},
   "outputs": [],
   "source": [
    "DATA_PATH = os.path.join('MP_Data') \n",
    "\n",
    "actions = np.array(['homem','obrigado', 'oi'])\n",
    "\n",
    "max_frames_per_video = 200\n",
    "numeros_videos_por_action = 3\n",
    "label_map = {label:num for num, label in enumerate(actions)}"
   ]
  },
  {
   "cell_type": "code",
   "execution_count": 3,
   "id": "9b826867",
   "metadata": {},
   "outputs": [],
   "source": [
    "sequences, labels = [], []\n",
    "\n",
    "for action in actions:\n",
    "    for sequence in np.array(os.listdir(os.path.join(DATA_PATH, action))).astype(int):\n",
    "        window = []\n",
    "        for frame_num in range(max_frames_per_video):\n",
    "            file_path = os.path.join(DATA_PATH, action, str(sequence), \"{}.npy\".format(frame_num))\n",
    "            \n",
    "            try:\n",
    "                res = np.load(file_path)\n",
    "            except FileNotFoundError:\n",
    "                array_shape = (1662,)\n",
    "                zeros_array = np.zeros(array_shape)\n",
    "                window.append(zeros_array)\n",
    "            else:\n",
    "                window.append(res)\n",
    "        \n",
    "        sequences.append(window)\n",
    "        labels.append(label_map[action])\n"
   ]
  },
  {
   "cell_type": "code",
   "execution_count": 4,
   "id": "e0333af5",
   "metadata": {},
   "outputs": [],
   "source": [
    "y = np.array(labels)\n",
    "X = np.array(sequences)\n",
    "y = to_categorical(labels).astype(int)"
   ]
  },
  {
   "cell_type": "code",
   "execution_count": 5,
   "id": "7c843429",
   "metadata": {},
   "outputs": [],
   "source": [
    "X_train, X_test, y_train, y_test = train_test_split(X,y, test_size=0.30)\n"
   ]
  },
  {
   "cell_type": "code",
   "execution_count": 6,
   "id": "c0c7c4d4",
   "metadata": {},
   "outputs": [],
   "source": [
    "from tensorflow.keras.models import Sequential\n",
    "from tensorflow.keras.layers import LSTM, Dense\n",
    "from tensorflow.keras.callbacks import TensorBoard"
   ]
  },
  {
   "cell_type": "code",
   "execution_count": 7,
   "id": "88990be3",
   "metadata": {},
   "outputs": [
    {
     "data": {
      "text/plain": [
       "(3,)"
      ]
     },
     "execution_count": 7,
     "metadata": {},
     "output_type": "execute_result"
    }
   ],
   "source": [
    "log_dir = os.path.join('Logs')\n",
    "tb_callback = TensorBoard(log_dir=log_dir)\n",
    "actions.shape"
   ]
  },
  {
   "cell_type": "code",
   "execution_count": 55,
   "id": "56ead256",
   "metadata": {},
   "outputs": [],
   "source": [
    "model = Sequential()\n",
    "model.add(LSTM(256, return_sequences=True, activation='relu', input_shape=(200,1662) ))\n",
    "model.add(LSTM(128, return_sequences=True,  activation='tanh'))\n",
    "model.add(LSTM(128, return_sequences=True, activation='relu'))\n",
    "model.add(Dense(64, activation='relu'))\n",
    "model.add(Dense(actions.shape[0], activation='softmax'))\n",
    "#model.add(Dense(actions.shape[0], activation='softmax'))"
   ]
  },
  {
   "cell_type": "code",
   "execution_count": 23,
   "id": "98618938",
   "metadata": {},
   "outputs": [],
   "source": [
    "from tensorflow.keras.layers import Flatten\n",
    "\n",
    "# Define your model\n",
    "model = Sequential()\n",
    "model.add(LSTM(256, return_sequences=True, activation='relu', input_shape=(200, 1662)))\n",
    "model.add(LSTM(64, return_sequences=True, activation='relu'))\n",
    "model.add(LSTM(128, return_sequences=False, activation='relu'))\n",
    "model.add(Dense(256, activation='tanh'))\n",
    "model.add(Dense(64, activation='relu'))\n",
    "\n",
    "# Add a Flatten layer to reshape the output\n",
    "model.add(Flatten())\n",
    "\n",
    "# Add a Dense layer with 3 units and softmax activation for classification\n",
    "model.add(Dense(3, activation='softmax'))"
   ]
  },
  {
   "cell_type": "code",
   "execution_count": 24,
   "id": "c29e0da1",
   "metadata": {},
   "outputs": [],
   "source": [
    "model.compile(optimizer='Adam', loss='categorical_crossentropy', metrics=['categorical_accuracy'])"
   ]
  },
  {
   "cell_type": "code",
   "execution_count": null,
   "id": "2c611415",
   "metadata": {},
   "outputs": [
    {
     "name": "stdout",
     "output_type": "stream",
     "text": [
      "Epoch 1/2000\n",
      "1/1 [==============================] - 4s 4s/step - loss: 1.1042 - categorical_accuracy: 0.3333\n",
      "Epoch 2/2000\n",
      "1/1 [==============================] - 2s 2s/step - loss: 1.0840 - categorical_accuracy: 0.5000\n",
      "Epoch 3/2000\n",
      "1/1 [==============================] - 1s 1s/step - loss: nan - categorical_accuracy: 0.3333\n",
      "Epoch 4/2000\n",
      "1/1 [==============================] - 1s 987ms/step - loss: nan - categorical_accuracy: 0.3333\n",
      "Epoch 5/2000\n",
      "1/1 [==============================] - 1s 1s/step - loss: nan - categorical_accuracy: 0.3333\n",
      "Epoch 6/2000\n",
      "1/1 [==============================] - 1s 1s/step - loss: nan - categorical_accuracy: 0.3333\n",
      "Epoch 7/2000\n",
      "1/1 [==============================] - 1s 985ms/step - loss: nan - categorical_accuracy: 0.3333\n",
      "Epoch 8/2000\n",
      "1/1 [==============================] - 1s 1s/step - loss: nan - categorical_accuracy: 0.3333\n",
      "Epoch 9/2000\n",
      "1/1 [==============================] - 1s 1s/step - loss: nan - categorical_accuracy: 0.3333\n",
      "Epoch 10/2000\n"
     ]
    }
   ],
   "source": [
    "model.fit(X_train, y_train, epochs=2000, callbacks=[tb_callback])"
   ]
  },
  {
   "cell_type": "code",
   "execution_count": null,
   "id": "21206207",
   "metadata": {},
   "outputs": [],
   "source": [
    "\n"
   ]
  },
  {
   "cell_type": "code",
   "execution_count": null,
   "id": "fe5c5022",
   "metadata": {},
   "outputs": [],
   "source": []
  }
 ],
 "metadata": {
  "kernelspec": {
   "display_name": "Python 3 (ipykernel)",
   "language": "python",
   "name": "python3"
  },
  "language_info": {
   "codemirror_mode": {
    "name": "ipython",
    "version": 3
   },
   "file_extension": ".py",
   "mimetype": "text/x-python",
   "name": "python",
   "nbconvert_exporter": "python",
   "pygments_lexer": "ipython3",
   "version": "3.9.13"
  }
 },
 "nbformat": 4,
 "nbformat_minor": 5
}
