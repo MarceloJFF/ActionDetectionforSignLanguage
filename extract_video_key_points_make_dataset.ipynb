{
 "cells": [
  {
   "cell_type": "code",
   "execution_count": 24,
   "id": "b5083a2b",
   "metadata": {},
   "outputs": [],
   "source": [
    "import cv2\n",
    "import numpy as np\n",
    "import os\n",
    "from matplotlib import pyplot as plt\n",
    "import time\n",
    "import mediapipe as mp"
   ]
  },
  {
   "cell_type": "code",
   "execution_count": 25,
   "id": "44e02b5e",
   "metadata": {},
   "outputs": [],
   "source": [
    "mp_holistic = mp.solutions.holistic # Holistic model\n",
    "mp_drawing = mp.solutions.drawing_utils # Drawing utilities"
   ]
  },
  {
   "cell_type": "code",
   "execution_count": 26,
   "id": "2d0549a8",
   "metadata": {},
   "outputs": [],
   "source": [
    "def mediapipe_detection(image, model):\n",
    "    image = cv2.cvtColor(image, cv2.COLOR_BGR2RGB) # COLOR CONVERSION BGR 2 RGB\n",
    "    image.flags.writeable = False                  # Image is no longer writeable\n",
    "    results = model.process(image)                 # Make prediction\n",
    "    image.flags.writeable = True                   # Image is now writeable \n",
    "    image = cv2.cvtColor(image, cv2.COLOR_RGB2BGR) # COLOR COVERSION RGB 2 BGR\n",
    "    return image, results"
   ]
  },
  {
   "cell_type": "code",
   "execution_count": 27,
   "id": "18e7b19f",
   "metadata": {},
   "outputs": [],
   "source": [
    "def draw_landmarks(image, results):\n",
    "    mp_drawing.draw_landmarks(image, results.face_landmarks, mp.solutions.holistic.FACEMESH_TESSELATION) # Draw face connections\n",
    "    mp_drawing.draw_landmarks(image, results.pose_landmarks, mp_holistic.POSE_CONNECTIONS) # Draw pose connections\n",
    "    mp_drawing.draw_landmarks(image, results.left_hand_landmarks, mp_holistic.HAND_CONNECTIONS) # Draw left hand connections\n",
    "    mp_drawing.draw_landmarks(image, results.right_hand_landmarks, mp_holistic.HAND_CONNECTIONS) # Draw right hand connections"
   ]
  },
  {
   "cell_type": "code",
   "execution_count": 28,
   "id": "c0548f9d",
   "metadata": {},
   "outputs": [],
   "source": [
    "def extract_keypoints(results):\n",
    "    pose = np.array([[res.x, res.y, res.z, res.visibility] for res in results.pose_landmarks.landmark]).flatten() if results.pose_landmarks else np.zeros(33*4)\n",
    "    face = np.array([[res.x, res.y, res.z] for res in results.face_landmarks.landmark]).flatten() if results.face_landmarks else np.zeros(468*3)\n",
    "    lh = np.array([[res.x, res.y, res.z] for res in results.left_hand_landmarks.landmark]).flatten() if results.left_hand_landmarks else np.zeros(21*3)\n",
    "    rh = np.array([[res.x, res.y, res.z] for res in results.right_hand_landmarks.landmark]).flatten() if results.right_hand_landmarks else np.zeros(21*3)\n",
    "    return np.concatenate([pose, face, lh, rh])"
   ]
  },
  {
   "cell_type": "markdown",
   "id": "bef65b4b",
   "metadata": {},
   "source": [
    "# Criando pasta para armazenar os dados"
   ]
  },
  {
   "cell_type": "code",
   "execution_count": 29,
   "id": "3af1db0c",
   "metadata": {},
   "outputs": [],
   "source": [
    "#para cada action são criadas pastas com subpastas index_video\n",
    "def criarPastas(actions,numeros_videos_por_action):\n",
    "    for action in actions: \n",
    "        for index_video in range(numeros_videos_por_action):\n",
    "            try: \n",
    "                os.makedirs(os.path.join(DATA_PATH, action, str(index_video)))\n",
    "            except:\n",
    "                pass"
   ]
  },
  {
   "cell_type": "code",
   "execution_count": 30,
   "id": "d4d8ec97",
   "metadata": {},
   "outputs": [],
   "source": [
    "# Path for exported data, numpy arrays\n",
    "DATA_PATH = os.path.join('MP_Data') \n",
    "\n",
    "#target que serão detectados\n",
    "actions = np.array(['homem','obrigado', 'oi'])\n",
    "\n",
    "# número de vídeos para cada target\n",
    "numeros_videos_por_action = 3\n",
    "\n",
    "criarPastas(actions,numeros_videos_por_action)\n"
   ]
  },
  {
   "cell_type": "markdown",
   "id": "4d0a4cfe",
   "metadata": {},
   "source": [
    "# Capturar vídeos"
   ]
  },
  {
   "cell_type": "code",
   "execution_count": 31,
   "id": "3cd8dbb8",
   "metadata": {},
   "outputs": [],
   "source": [
    "import cv2\n",
    "import mediapipe as mp\n",
    "import numpy as np\n",
    "\n",
    "# Inicialize o MediaPipe\n",
    "mp_holistic = mp.solutions.holistic\n",
    "mp_drawing = mp.solutions.drawing_utils\n",
    "\n",
    "max_frames_per_video = 200\n",
    "desired_fps = 30"
   ]
  },
  {
   "cell_type": "code",
   "execution_count": 32,
   "id": "b189b3a9",
   "metadata": {},
   "outputs": [],
   "source": [
    "def capturarVideos():\n",
    "    for action in actions:\n",
    "        print(action)\n",
    "        for index_video in range(numeros_videos_por_action):\n",
    "            sequence_str = str(index_video).zfill(1)\n",
    "            video_path = f'./treino/{action}/{sequence_str}.mp4'\n",
    "\n",
    "            cap = cv2.VideoCapture(video_path)\n",
    "\n",
    "            if not cap.isOpened():\n",
    "                print(f\"Erro ao abrir o vídeo {video_path}.\")\n",
    "                continue\n",
    "\n",
    "            holistic = mp_holistic.Holistic()\n",
    "\n",
    "            frame_count = 0\n",
    "            stop_processing = False  # Variável de controle\n",
    "\n",
    "            while frame_count < max_frames_per_video and not stop_processing:\n",
    "                ret, frame = cap.read()\n",
    "\n",
    "                if not ret:\n",
    "                    break\n",
    "\n",
    "                rgb_frame = cv2.cvtColor(frame, cv2.COLOR_BGR2RGB)\n",
    "                results = holistic.process(rgb_frame)\n",
    "\n",
    "                annotated_frame = rgb_frame.copy()\n",
    "\n",
    "                draw_landmarks( annotated_frame, results)\n",
    "\n",
    "                cv2.imshow('Video', cv2.cvtColor(annotated_frame, cv2.COLOR_RGB2BGR))\n",
    "\n",
    "                frame_count += 1\n",
    "                keypoints = extract_keypoints(results)\n",
    "                npy_path = os.path.join(DATA_PATH, action, str(index_video), str(frame_count))\n",
    "                np.save(npy_path, keypoints)\n",
    "                if cv2.waitKey(1) & 0xFF == ord('q'):\n",
    "                    stop_processing = True  # Atualiza a variável de controle para encerrar\n",
    "            while frame_count < max_frames_per_video:\n",
    "                frame_count += 1\n",
    "                npy_path = os.path.join(DATA_PATH, action, str(index_video), str(frame_count))\n",
    "                np.save(npy_path, np.zeros_like(keypoints))\n",
    "                \n",
    "            cap.release()\n",
    "            cv2.destroyAllWindows()\n",
    "\n",
    "            if stop_processing:\n",
    "                break  # Encerra os loops internos e avança para a próxima ação"
   ]
  },
  {
   "cell_type": "code",
   "execution_count": 20,
   "id": "07692dee",
   "metadata": {},
   "outputs": [],
   "source": [
    "def capturarVideos():\n",
    "    for action in actions:\n",
    "        for index_video in range(numeros_videos_por_action):\n",
    "            sequence_str = str(index_video).zfill(1)\n",
    "            video_path = f'./treino/{action}/{sequence_str}.mp4'\n",
    "\n",
    "            cap = cv2.VideoCapture(video_path)\n",
    "\n",
    "            if not cap.isOpened():\n",
    "                print(f\"Erro ao abrir o vídeo {video_path}.\")\n",
    "                continue\n",
    "\n",
    "            holistic = mp_holistic.Holistic()\n",
    "\n",
    "            frame_count = 0\n",
    "            stop_processing = False  # Variável de controle\n",
    "\n",
    "            while frame_count < max_frames_per_video and not stop_processing:\n",
    "                ret, frame = cap.read()\n",
    "\n",
    "                if not ret:\n",
    "                    break\n",
    "\n",
    "                rgb_frame = cv2.cvtColor(frame, cv2.COLOR_BGR2RGB)\n",
    "                results = holistic.process(rgb_frame)\n",
    "\n",
    "                annotated_frame = rgb_frame.copy()\n",
    "\n",
    "                draw_landmarks( annotated_frame, results)\n",
    "\n",
    "                cv2.imshow('Video', cv2.cvtColor(annotated_frame, cv2.COLOR_RGB2BGR))\n",
    "\n",
    "                frame_count += 1\n",
    "                keypoints = extract_keypoints(results)\n",
    "                npy_path = os.path.join(DATA_PATH, action, str(index_video), str(frame_count))\n",
    "                np.save(npy_path, keypoints)\n",
    "                if cv2.waitKey(1) & 0xFF == ord('q'):\n",
    "                    stop_processing = True  # Atualiza a variável de controle para encerrar\n",
    "\n",
    "            cap.release()\n",
    "            cv2.destroyAllWindows()\n",
    "\n",
    "            if stop_processing:\n",
    "                break  # Encerra os loops internos e avança para a próxima ação"
   ]
  },
  {
   "cell_type": "code",
   "execution_count": 33,
   "id": "faa9f395",
   "metadata": {},
   "outputs": [
    {
     "name": "stdout",
     "output_type": "stream",
     "text": [
      "homem\n",
      "obrigado\n",
      "oi\n"
     ]
    }
   ],
   "source": [
    "capturarVideos()"
   ]
  },
  {
   "cell_type": "code",
   "execution_count": null,
   "id": "eddc0ae5",
   "metadata": {},
   "outputs": [],
   "source": []
  }
 ],
 "metadata": {
  "kernelspec": {
   "display_name": "Python 3 (ipykernel)",
   "language": "python",
   "name": "python3"
  },
  "language_info": {
   "codemirror_mode": {
    "name": "ipython",
    "version": 3
   },
   "file_extension": ".py",
   "mimetype": "text/x-python",
   "name": "python",
   "nbconvert_exporter": "python",
   "pygments_lexer": "ipython3",
   "version": "3.9.13"
  }
 },
 "nbformat": 4,
 "nbformat_minor": 5
}
